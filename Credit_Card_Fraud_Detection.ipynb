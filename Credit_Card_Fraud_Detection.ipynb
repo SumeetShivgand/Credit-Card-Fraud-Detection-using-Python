{
 "cells": [
  {
   "cell_type": "markdown",
   "metadata": {},
   "source": [
    "### Sumeet Shivgand\n",
    "### R00182850\n",
    "### Assignment 2"
   ]
  },
  {
   "cell_type": "code",
   "execution_count": 1,
   "metadata": {},
   "outputs": [],
   "source": [
    "# Data Wrangling \n",
    "import numpy as np\n",
    "import pandas as pd \n",
    "import random\n",
    "\n",
    "# Data Visualisation \n",
    "%matplotlib inline\n",
    "import matplotlib.pyplot as plt \n",
    "import seaborn as sns\n",
    "\n",
    "# Machine Learning \n",
    "import xgboost as xgb\n",
    "from sklearn.ensemble import RandomForestClassifier\n",
    "from sklearn.tree import DecisionTreeClassifier\n",
    "from sklearn.model_selection import train_test_split\n",
    "from sklearn.metrics import accuracy_score\n",
    "from sklearn.metrics import confusion_matrix, classification_report\n",
    "\n",
    "\n",
    "# Resampling data with under sampling, over sampling and SMOTE\n",
    "from imblearn.under_sampling import RandomUnderSampler\n",
    "from imblearn.over_sampling import RandomOverSampler\n",
    "from imblearn.over_sampling import SMOTE"
   ]
  },
  {
   "cell_type": "code",
   "execution_count": 2,
   "metadata": {},
   "outputs": [
    {
     "data": {
      "text/html": [
       "<div>\n",
       "<style scoped>\n",
       "    .dataframe tbody tr th:only-of-type {\n",
       "        vertical-align: middle;\n",
       "    }\n",
       "\n",
       "    .dataframe tbody tr th {\n",
       "        vertical-align: top;\n",
       "    }\n",
       "\n",
       "    .dataframe thead th {\n",
       "        text-align: right;\n",
       "    }\n",
       "</style>\n",
       "<table border=\"1\" class=\"dataframe\">\n",
       "  <thead>\n",
       "    <tr style=\"text-align: right;\">\n",
       "      <th></th>\n",
       "      <th>V1</th>\n",
       "      <th>V2</th>\n",
       "      <th>V3</th>\n",
       "      <th>V4</th>\n",
       "      <th>V5</th>\n",
       "      <th>V6</th>\n",
       "      <th>V7</th>\n",
       "      <th>V8</th>\n",
       "      <th>V9</th>\n",
       "      <th>V10</th>\n",
       "      <th>...</th>\n",
       "      <th>V21</th>\n",
       "      <th>V22</th>\n",
       "      <th>V23</th>\n",
       "      <th>V24</th>\n",
       "      <th>V25</th>\n",
       "      <th>V26</th>\n",
       "      <th>V27</th>\n",
       "      <th>V28</th>\n",
       "      <th>Amount</th>\n",
       "      <th>Class</th>\n",
       "    </tr>\n",
       "  </thead>\n",
       "  <tbody>\n",
       "    <tr>\n",
       "      <th>0</th>\n",
       "      <td>1.256229</td>\n",
       "      <td>-0.506944</td>\n",
       "      <td>0.482418</td>\n",
       "      <td>0.115658</td>\n",
       "      <td>-1.022264</td>\n",
       "      <td>-0.522547</td>\n",
       "      <td>-0.415670</td>\n",
       "      <td>-0.057159</td>\n",
       "      <td>-0.912658</td>\n",
       "      <td>0.796623</td>\n",
       "      <td>...</td>\n",
       "      <td>-0.444295</td>\n",
       "      <td>-0.703718</td>\n",
       "      <td>0.020491</td>\n",
       "      <td>0.550057</td>\n",
       "      <td>0.403226</td>\n",
       "      <td>0.337180</td>\n",
       "      <td>-0.012798</td>\n",
       "      <td>0.008154</td>\n",
       "      <td>28.00</td>\n",
       "      <td>0</td>\n",
       "    </tr>\n",
       "    <tr>\n",
       "      <th>1</th>\n",
       "      <td>0.944330</td>\n",
       "      <td>-1.830559</td>\n",
       "      <td>-0.311509</td>\n",
       "      <td>-1.230706</td>\n",
       "      <td>-1.105964</td>\n",
       "      <td>0.059692</td>\n",
       "      <td>-0.437650</td>\n",
       "      <td>-0.136275</td>\n",
       "      <td>-2.245879</td>\n",
       "      <td>1.356977</td>\n",
       "      <td>...</td>\n",
       "      <td>0.024525</td>\n",
       "      <td>0.025444</td>\n",
       "      <td>-0.360068</td>\n",
       "      <td>-0.243700</td>\n",
       "      <td>0.554992</td>\n",
       "      <td>-0.064089</td>\n",
       "      <td>-0.015910</td>\n",
       "      <td>0.041902</td>\n",
       "      <td>285.27</td>\n",
       "      <td>0</td>\n",
       "    </tr>\n",
       "    <tr>\n",
       "      <th>2</th>\n",
       "      <td>1.246314</td>\n",
       "      <td>0.366946</td>\n",
       "      <td>0.297959</td>\n",
       "      <td>1.118263</td>\n",
       "      <td>-0.272567</td>\n",
       "      <td>-0.969192</td>\n",
       "      <td>0.215065</td>\n",
       "      <td>-0.231450</td>\n",
       "      <td>-0.012874</td>\n",
       "      <td>0.016361</td>\n",
       "      <td>...</td>\n",
       "      <td>0.026556</td>\n",
       "      <td>0.125002</td>\n",
       "      <td>-0.097595</td>\n",
       "      <td>0.397102</td>\n",
       "      <td>0.686940</td>\n",
       "      <td>-0.328230</td>\n",
       "      <td>0.013752</td>\n",
       "      <td>0.020123</td>\n",
       "      <td>3.30</td>\n",
       "      <td>0</td>\n",
       "    </tr>\n",
       "    <tr>\n",
       "      <th>3</th>\n",
       "      <td>-1.152825</td>\n",
       "      <td>0.462867</td>\n",
       "      <td>0.995502</td>\n",
       "      <td>0.703443</td>\n",
       "      <td>0.409895</td>\n",
       "      <td>-0.448310</td>\n",
       "      <td>-0.298842</td>\n",
       "      <td>0.644459</td>\n",
       "      <td>-1.026941</td>\n",
       "      <td>-0.520884</td>\n",
       "      <td>...</td>\n",
       "      <td>0.010666</td>\n",
       "      <td>-0.359297</td>\n",
       "      <td>0.072184</td>\n",
       "      <td>-0.014728</td>\n",
       "      <td>-0.703373</td>\n",
       "      <td>0.173465</td>\n",
       "      <td>0.024653</td>\n",
       "      <td>-0.034414</td>\n",
       "      <td>0.89</td>\n",
       "      <td>0</td>\n",
       "    </tr>\n",
       "    <tr>\n",
       "      <th>4</th>\n",
       "      <td>1.151825</td>\n",
       "      <td>0.315842</td>\n",
       "      <td>0.513422</td>\n",
       "      <td>1.152740</td>\n",
       "      <td>-0.262601</td>\n",
       "      <td>-0.607620</td>\n",
       "      <td>0.127761</td>\n",
       "      <td>-0.138176</td>\n",
       "      <td>-0.099944</td>\n",
       "      <td>-0.063739</td>\n",
       "      <td>...</td>\n",
       "      <td>0.136174</td>\n",
       "      <td>0.497671</td>\n",
       "      <td>-0.061487</td>\n",
       "      <td>0.428082</td>\n",
       "      <td>0.587320</td>\n",
       "      <td>-0.290667</td>\n",
       "      <td>0.040006</td>\n",
       "      <td>0.025360</td>\n",
       "      <td>14.90</td>\n",
       "      <td>0</td>\n",
       "    </tr>\n",
       "  </tbody>\n",
       "</table>\n",
       "<p>5 rows × 30 columns</p>\n",
       "</div>"
      ],
      "text/plain": [
       "         V1        V2        V3        V4        V5        V6        V7  \\\n",
       "0  1.256229 -0.506944  0.482418  0.115658 -1.022264 -0.522547 -0.415670   \n",
       "1  0.944330 -1.830559 -0.311509 -1.230706 -1.105964  0.059692 -0.437650   \n",
       "2  1.246314  0.366946  0.297959  1.118263 -0.272567 -0.969192  0.215065   \n",
       "3 -1.152825  0.462867  0.995502  0.703443  0.409895 -0.448310 -0.298842   \n",
       "4  1.151825  0.315842  0.513422  1.152740 -0.262601 -0.607620  0.127761   \n",
       "\n",
       "         V8        V9       V10  ...       V21       V22       V23       V24  \\\n",
       "0 -0.057159 -0.912658  0.796623  ... -0.444295 -0.703718  0.020491  0.550057   \n",
       "1 -0.136275 -2.245879  1.356977  ...  0.024525  0.025444 -0.360068 -0.243700   \n",
       "2 -0.231450 -0.012874  0.016361  ...  0.026556  0.125002 -0.097595  0.397102   \n",
       "3  0.644459 -1.026941 -0.520884  ...  0.010666 -0.359297  0.072184 -0.014728   \n",
       "4 -0.138176 -0.099944 -0.063739  ...  0.136174  0.497671 -0.061487  0.428082   \n",
       "\n",
       "        V25       V26       V27       V28  Amount  Class  \n",
       "0  0.403226  0.337180 -0.012798  0.008154   28.00      0  \n",
       "1  0.554992 -0.064089 -0.015910  0.041902  285.27      0  \n",
       "2  0.686940 -0.328230  0.013752  0.020123    3.30      0  \n",
       "3 -0.703373  0.173465  0.024653 -0.034414    0.89      0  \n",
       "4  0.587320 -0.290667  0.040006  0.025360   14.90      0  \n",
       "\n",
       "[5 rows x 30 columns]"
      ]
     },
     "execution_count": 2,
     "metadata": {},
     "output_type": "execute_result"
    }
   ],
   "source": [
    "random.seed(850)\n",
    "# Read the file into dataframe\n",
    "credit_df = pd.read_csv('D:\\\\CIT\\\\Semester 2\\\\Applied Machine Learning\\\\Assignment 2\\\\Project\\\\credit1.csv')\n",
    "credit_df.head()"
   ]
  },
  {
   "cell_type": "code",
   "execution_count": 3,
   "metadata": {},
   "outputs": [
    {
     "name": "stdout",
     "output_type": "stream",
     "text": [
      "(56962, 30)\n",
      "0    0.998209\n",
      "1    0.001791\n",
      "Name: Class, dtype: float64\n"
     ]
    },
    {
     "data": {
      "text/plain": [
       "<matplotlib.axes._subplots.AxesSubplot at 0x1a61e2e95c0>"
      ]
     },
     "execution_count": 3,
     "metadata": {},
     "output_type": "execute_result"
    },
    {
     "data": {
      "image/png": "[encoded data removed]",
      "text/plain": [
       "<Figure size 432x288 with 1 Axes>"
      ]
     },
     "metadata": {
      "needs_background": "light"
     },
     "output_type": "display_data"
    }
   ],
   "source": [
    "print(credit_df.shape)\n",
    "#credit_df.info()\n",
    "#print(credit_df.describe())\n",
    "fnf = credit_df[\"Class\"].value_counts()\n",
    "print(fnf/len(credit_df))\n",
    "\n",
    "# Plottingg your data\n",
    "plt.xlabel(\"Class\")\n",
    "plt.ylabel(\"Number of Observations\")\n",
    "fnf.plot(kind = 'bar',title = 'Frequency by observation number',rot=0)\n",
    "\n",
    "#Dataset Summary:\n",
    "#We have 56962 entries within 29 features and 1 target (Class).\n",
    "#There are no \"Null\" values, so there is no need to replace any values.\n",
    "#The mean of all the amounts made is relatively small, approximately 88 USD.\n",
    "#Most of the transactions were Non-Fraud (99.82%) of the time, \n",
    "#while Fraud transactions occurs (0.18%) of the time in the dataframe."
   ]
  },
  {
   "cell_type": "code",
   "execution_count": 4,
   "metadata": {},
   "outputs": [
    {
     "data": {
      "image/png": "[encoded data removed]",
      "text/plain": [
       "<Figure size 432x288 with 1 Axes>"
      ]
     },
     "metadata": {
      "needs_background": "light"
     },
     "output_type": "display_data"
    }
   ],
   "source": [
    "# Distribution of Amount feature\n",
    "\n",
    "import seaborn as sns\n",
    "\n",
    "fig, ax = plt.subplots()\n",
    "\n",
    "# Plot the distribution of 'Amount' feature \n",
    "sns.distplot(credit_df['Amount'].values, ax=ax, color='b')\n",
    "ax.set_title('Distribution of Transaction Amount', fontsize=14)\n",
    "ax.set_xlim([min(credit_df['Amount'].values), max(credit_df['Amount'].values)])\n",
    "\n",
    "plt.show()\n",
    "\n",
    "#Summary:\n",
    "#Mean of transaction amount is 88 USD and 75% quatile is 77 USD.\n",
    "#We should better scale these two skewed features also."
   ]
  },
  {
   "cell_type": "code",
   "execution_count": 5,
   "metadata": {},
   "outputs": [],
   "source": [
    "# Seperate total data into non-fraud and fraud cases\n",
    "#save non-fraud df observations into a separate df\n",
    "nonfraud_df = credit_df[credit_df.Class == 0] \n",
    "\n",
    "#do the same for frauds\n",
    "fraud_df = credit_df[credit_df.Class == 1] "
   ]
  },
  {
   "cell_type": "code",
   "execution_count": 6,
   "metadata": {},
   "outputs": [
    {
     "name": "stdout",
     "output_type": "stream",
     "text": [
      "(56860, 30)\n",
      "(102, 30)\n"
     ]
    }
   ],
   "source": [
    "print(nonfraud_df.shape)\n",
    "print(fraud_df.shape)"
   ]
  },
  {
   "cell_type": "code",
   "execution_count": 7,
   "metadata": {},
   "outputs": [
    {
     "name": "stderr",
     "output_type": "stream",
     "text": [
      "C:\\Users\\shivgandsumeet\\Anaconda3\\lib\\site-packages\\ipykernel_launcher.py:4: MatplotlibDeprecationWarning: \n",
      "The 'normed' kwarg was deprecated in Matplotlib 2.1 and will be removed in 3.1. Use 'density' instead.\n",
      "  after removing the cwd from sys.path.\n",
      "C:\\Users\\shivgandsumeet\\Anaconda3\\lib\\site-packages\\ipykernel_launcher.py:5: MatplotlibDeprecationWarning: \n",
      "The 'normed' kwarg was deprecated in Matplotlib 2.1 and will be removed in 3.1. Use 'density' instead.\n",
      "  \"\"\"\n"
     ]
    },
    {
     "data": {
      "image/png": "[encoded data removed]",
      "text/plain": [
       "<Figure size 432x288 with 1 Axes>"
      ]
     },
     "metadata": {
      "needs_background": "light"
     },
     "output_type": "display_data"
    }
   ],
   "source": [
    "# Transaction Amount Visualization\n",
    "# Plot of high value transactions($300-$2000)\n",
    "bins = np.linspace(300, 2000, 100)\n",
    "plt.hist(nonfraud_df.Amount, bins, alpha=1, normed=True, label='Non-Fraud')\n",
    "plt.hist(fraud_df.Amount, bins, alpha=1, normed=True, label='Fraud')\n",
    "plt.legend(loc='upper right')\n",
    "plt.title(\"Amount by percentage of transactions (transactions \\$200-$2000)\")\n",
    "plt.xlabel(\"Transaction amount (USD)\")\n",
    "plt.ylabel(\"Percentage of transactions (%)\")\n",
    "plt.show()\n",
    "\n",
    "#Summary:\n",
    "# Here, long tail means fraud transaction happened more frequently.\n",
    "# So, it would be hard to differentiate fraud from normal transactions by transaction amount."
   ]
  },
  {
   "cell_type": "code",
   "execution_count": 8,
   "metadata": {},
   "outputs": [
    {
     "data": {
      "text/html": [
       "<div>\n",
       "<style scoped>\n",
       "    .dataframe tbody tr th:only-of-type {\n",
       "        vertical-align: middle;\n",
       "    }\n",
       "\n",
       "    .dataframe tbody tr th {\n",
       "        vertical-align: top;\n",
       "    }\n",
       "\n",
       "    .dataframe thead th {\n",
       "        text-align: right;\n",
       "    }\n",
       "</style>\n",
       "<table border=\"1\" class=\"dataframe\">\n",
       "  <thead>\n",
       "    <tr style=\"text-align: right;\">\n",
       "      <th></th>\n",
       "      <th>V1</th>\n",
       "      <th>V2</th>\n",
       "      <th>V3</th>\n",
       "      <th>V4</th>\n",
       "      <th>V5</th>\n",
       "      <th>V6</th>\n",
       "      <th>V7</th>\n",
       "      <th>V8</th>\n",
       "      <th>V9</th>\n",
       "      <th>V10</th>\n",
       "      <th>...</th>\n",
       "      <th>V21</th>\n",
       "      <th>V22</th>\n",
       "      <th>V23</th>\n",
       "      <th>V24</th>\n",
       "      <th>V25</th>\n",
       "      <th>V26</th>\n",
       "      <th>V27</th>\n",
       "      <th>V28</th>\n",
       "      <th>Class</th>\n",
       "      <th>scaled_amount</th>\n",
       "    </tr>\n",
       "  </thead>\n",
       "  <tbody>\n",
       "    <tr>\n",
       "      <th>0</th>\n",
       "      <td>1.256229</td>\n",
       "      <td>-0.506944</td>\n",
       "      <td>0.482418</td>\n",
       "      <td>0.115658</td>\n",
       "      <td>-1.022264</td>\n",
       "      <td>-0.522547</td>\n",
       "      <td>-0.415670</td>\n",
       "      <td>-0.057159</td>\n",
       "      <td>-0.912658</td>\n",
       "      <td>0.796623</td>\n",
       "      <td>...</td>\n",
       "      <td>-0.444295</td>\n",
       "      <td>-0.703718</td>\n",
       "      <td>0.020491</td>\n",
       "      <td>0.550057</td>\n",
       "      <td>0.403226</td>\n",
       "      <td>0.337180</td>\n",
       "      <td>-0.012798</td>\n",
       "      <td>0.008154</td>\n",
       "      <td>0</td>\n",
       "      <td>0.083836</td>\n",
       "    </tr>\n",
       "    <tr>\n",
       "      <th>1</th>\n",
       "      <td>0.944330</td>\n",
       "      <td>-1.830559</td>\n",
       "      <td>-0.311509</td>\n",
       "      <td>-1.230706</td>\n",
       "      <td>-1.105964</td>\n",
       "      <td>0.059692</td>\n",
       "      <td>-0.437650</td>\n",
       "      <td>-0.136275</td>\n",
       "      <td>-2.245879</td>\n",
       "      <td>1.356977</td>\n",
       "      <td>...</td>\n",
       "      <td>0.024525</td>\n",
       "      <td>0.025444</td>\n",
       "      <td>-0.360068</td>\n",
       "      <td>-0.243700</td>\n",
       "      <td>0.554992</td>\n",
       "      <td>-0.064089</td>\n",
       "      <td>-0.015910</td>\n",
       "      <td>0.041902</td>\n",
       "      <td>0</td>\n",
       "      <td>3.672607</td>\n",
       "    </tr>\n",
       "    <tr>\n",
       "      <th>2</th>\n",
       "      <td>1.246314</td>\n",
       "      <td>0.366946</td>\n",
       "      <td>0.297959</td>\n",
       "      <td>1.118263</td>\n",
       "      <td>-0.272567</td>\n",
       "      <td>-0.969192</td>\n",
       "      <td>0.215065</td>\n",
       "      <td>-0.231450</td>\n",
       "      <td>-0.012874</td>\n",
       "      <td>0.016361</td>\n",
       "      <td>...</td>\n",
       "      <td>0.026556</td>\n",
       "      <td>0.125002</td>\n",
       "      <td>-0.097595</td>\n",
       "      <td>0.397102</td>\n",
       "      <td>0.686940</td>\n",
       "      <td>-0.328230</td>\n",
       "      <td>0.013752</td>\n",
       "      <td>0.020123</td>\n",
       "      <td>0</td>\n",
       "      <td>-0.260715</td>\n",
       "    </tr>\n",
       "    <tr>\n",
       "      <th>3</th>\n",
       "      <td>-1.152825</td>\n",
       "      <td>0.462867</td>\n",
       "      <td>0.995502</td>\n",
       "      <td>0.703443</td>\n",
       "      <td>0.409895</td>\n",
       "      <td>-0.448310</td>\n",
       "      <td>-0.298842</td>\n",
       "      <td>0.644459</td>\n",
       "      <td>-1.026941</td>\n",
       "      <td>-0.520884</td>\n",
       "      <td>...</td>\n",
       "      <td>0.010666</td>\n",
       "      <td>-0.359297</td>\n",
       "      <td>0.072184</td>\n",
       "      <td>-0.014728</td>\n",
       "      <td>-0.703373</td>\n",
       "      <td>0.173465</td>\n",
       "      <td>0.024653</td>\n",
       "      <td>-0.034414</td>\n",
       "      <td>0</td>\n",
       "      <td>-0.294333</td>\n",
       "    </tr>\n",
       "    <tr>\n",
       "      <th>4</th>\n",
       "      <td>1.151825</td>\n",
       "      <td>0.315842</td>\n",
       "      <td>0.513422</td>\n",
       "      <td>1.152740</td>\n",
       "      <td>-0.262601</td>\n",
       "      <td>-0.607620</td>\n",
       "      <td>0.127761</td>\n",
       "      <td>-0.138176</td>\n",
       "      <td>-0.099944</td>\n",
       "      <td>-0.063739</td>\n",
       "      <td>...</td>\n",
       "      <td>0.136174</td>\n",
       "      <td>0.497671</td>\n",
       "      <td>-0.061487</td>\n",
       "      <td>0.428082</td>\n",
       "      <td>0.587320</td>\n",
       "      <td>-0.290667</td>\n",
       "      <td>0.040006</td>\n",
       "      <td>0.025360</td>\n",
       "      <td>0</td>\n",
       "      <td>-0.098901</td>\n",
       "    </tr>\n",
       "  </tbody>\n",
       "</table>\n",
       "<p>5 rows × 30 columns</p>\n",
       "</div>"
      ],
      "text/plain": [
       "         V1        V2        V3        V4        V5        V6        V7  \\\n",
       "0  1.256229 -0.506944  0.482418  0.115658 -1.022264 -0.522547 -0.415670   \n",
       "1  0.944330 -1.830559 -0.311509 -1.230706 -1.105964  0.059692 -0.437650   \n",
       "2  1.246314  0.366946  0.297959  1.118263 -0.272567 -0.969192  0.215065   \n",
       "3 -1.152825  0.462867  0.995502  0.703443  0.409895 -0.448310 -0.298842   \n",
       "4  1.151825  0.315842  0.513422  1.152740 -0.262601 -0.607620  0.127761   \n",
       "\n",
       "         V8        V9       V10  ...       V21       V22       V23       V24  \\\n",
       "0 -0.057159 -0.912658  0.796623  ... -0.444295 -0.703718  0.020491  0.550057   \n",
       "1 -0.136275 -2.245879  1.356977  ...  0.024525  0.025444 -0.360068 -0.243700   \n",
       "2 -0.231450 -0.012874  0.016361  ...  0.026556  0.125002 -0.097595  0.397102   \n",
       "3  0.644459 -1.026941 -0.520884  ...  0.010666 -0.359297  0.072184 -0.014728   \n",
       "4 -0.138176 -0.099944 -0.063739  ...  0.136174  0.497671 -0.061487  0.428082   \n",
       "\n",
       "        V25       V26       V27       V28  Class  scaled_amount  \n",
       "0  0.403226  0.337180 -0.012798  0.008154      0       0.083836  \n",
       "1  0.554992 -0.064089 -0.015910  0.041902      0       3.672607  \n",
       "2  0.686940 -0.328230  0.013752  0.020123      0      -0.260715  \n",
       "3 -0.703373  0.173465  0.024653 -0.034414      0      -0.294333  \n",
       "4  0.587320 -0.290667  0.040006  0.025360      0      -0.098901  \n",
       "\n",
       "[5 rows x 30 columns]"
      ]
     },
     "execution_count": 8,
     "metadata": {},
     "output_type": "execute_result"
    }
   ],
   "source": [
    "#Feature Scaling\n",
    "# Here, features V1-V28 have been transformed by PCA and scaled already whereas feature \"Amount\" had not.\n",
    "# So, we will analyze the 'Amount' features with other V1-V28, and they should be scaled properly before we train our \n",
    "# model using various algorithms\n",
    "\n",
    "#Which scaling mehtod should we use?\n",
    "#The Standard Scaler is not recommended as \"Amount\" features are not normally distributed.\n",
    "#The Min-Max Scaler is also not recommended as there are noticeable outliers in feature \"Amount\".\n",
    "#The Robust Scaler are robust to outliers: (xi–Q1(x))/( Q3(x)–Q1(x)) (Q1 and Q3 represent 25% and 75% quartiles).\n",
    "#So we choose Robust Scaler to scale these two features.\n",
    "\n",
    "\n",
    "# Scale \"Amount\" Feature\n",
    "from sklearn.preprocessing import StandardScaler, RobustScaler\n",
    "credit_df['scaled_amount'] = RobustScaler().fit_transform(credit_df['Amount'].values.reshape(-1,1))\n",
    "\n",
    "# Make a new dataset named \"scaled_df\" dropping out original \"Amount\"\n",
    "scaled_df = credit_df.drop(['Amount'],axis = 1,inplace=False)\n",
    "scaled_df.head()"
   ]
  },
  {
   "cell_type": "code",
   "execution_count": 9,
   "metadata": {},
   "outputs": [],
   "source": [
    "# Define the preprocess_data function to extract the features \n",
    "def preprocess_data(df):\n",
    "    X = credit_df.drop(['Class'],axis=1, inplace=False) #  \n",
    "    X = np.array(X).astype(np.float)\n",
    "    y = credit_df[['Class']]  \n",
    "    y = np.array(y).astype(np.float)\n",
    "    return X,y\n",
    "\n",
    "# Create X and y from the preprocess_data function \n",
    "X, y = preprocess_data(scaled_df)"
   ]
  },
  {
   "cell_type": "code",
   "execution_count": 10,
   "metadata": {},
   "outputs": [
    {
     "name": "stdout",
     "output_type": "stream",
     "text": [
      "Number transactions X_train dataset:  (39873, 30)\n",
      "Number transactions y_train dataset:  (39873, 1)\n",
      "Number transactions X_test dataset:  (17089, 30)\n",
      "Number transactions y_test dataset:  (17089, 1)\n"
     ]
    }
   ],
   "source": [
    "# Split the data into training and testing sets\n",
    "X_train, X_test, y_train, y_test = train_test_split(X, y, test_size=.3, random_state=0)\n",
    "print(\"Number transactions X_train dataset: \", X_train.shape) \n",
    "print(\"Number transactions y_train dataset: \", y_train.shape) \n",
    "print(\"Number transactions X_test dataset: \", X_test.shape) \n",
    "print(\"Number transactions y_test dataset: \", y_test.shape) "
   ]
  },
  {
   "cell_type": "code",
   "execution_count": 11,
   "metadata": {},
   "outputs": [
    {
     "name": "stdout",
     "output_type": "stream",
     "text": [
      "Before OverSampling, counts of label '1': [68]\n",
      "Before OverSampling, counts of label '0': [39805] \n",
      "\n",
      "After OverSampling, the shape of train_X: (79610, 30)\n",
      "After OverSampling, the shape of train_y: (79610,) \n",
      "\n",
      "After OverSampling, counts of label '1': 39805\n",
      "After OverSampling, counts of label '0': 39805\n"
     ]
    }
   ],
   "source": [
    "# Using SMOTE Alogrithm\n",
    "\n",
    "print(\"Before OverSampling, counts of label '1': {}\".format(sum(y_train == 1))) \n",
    "print(\"Before OverSampling, counts of label '0': {} \\n\".format(sum(y_train == 0))) \n",
    "  \n",
    "from imblearn.over_sampling import SMOTE \n",
    "sm = SMOTE(random_state = 2) \n",
    "X_train_res, y_train_res = sm.fit_sample(X_train, y_train.ravel()) \n",
    "  \n",
    "print('After OverSampling, the shape of train_X: {}'.format(X_train_res.shape)) \n",
    "print('After OverSampling, the shape of train_y: {} \\n'.format(y_train_res.shape)) \n",
    "  \n",
    "print(\"After OverSampling, counts of label '1': {}\".format(sum(y_train_res == 1))) \n",
    "print(\"After OverSampling, counts of label '0': {}\".format(sum(y_train_res == 0))) \n",
    "\n",
    "# We see that SMOTE Algorithm has oversampled the minority instances and made it equal to majority class.\n",
    "# Both categories have equal amount of records. More specifically, the minority class has been increased \n",
    "# to the total number of majority class.\n",
    "# Now see the accuracy and recall results after applying SMOTE algorithm (Oversampling)."
   ]
  },
  {
   "cell_type": "code",
   "execution_count": 12,
   "metadata": {},
   "outputs": [
    {
     "name": "stdout",
     "output_type": "stream",
     "text": [
      "0.9977178301831587\n",
      "              precision    recall  f1-score   support\n",
      "\n",
      "         0.0       1.00      1.00      1.00     17055\n",
      "         1.0       0.45      0.62      0.52        34\n",
      "\n",
      "    accuracy                           1.00     17089\n",
      "   macro avg       0.72      0.81      0.76     17089\n",
      "weighted avg       1.00      1.00      1.00     17089\n",
      "\n"
     ]
    }
   ],
   "source": [
    "# Decision tree with smote \n",
    "dtc1 = DecisionTreeClassifier() \n",
    "dtc1.fit(X_train_res, y_train_res.ravel()) \n",
    "pred_dtc1 = dtc1.predict(X_test) \n",
    "  \n",
    "# print classification report\n",
    "print(accuracy_score(y_test, pred_dtc1)) \n",
    "print(classification_report(y_test, pred_dtc1)) \n",
    "\n",
    "# Here, we have the accuracy of 99% but the precision and recall value is less \n",
    "# This is not a good model."
   ]
  },
  {
   "cell_type": "code",
   "execution_count": 13,
   "metadata": {},
   "outputs": [
    {
     "name": "stdout",
     "output_type": "stream",
     "text": [
      "0.9989466908537655\n",
      "              precision    recall  f1-score   support\n",
      "\n",
      "         0.0       1.00      1.00      1.00     17055\n",
      "         1.0       0.77      0.68      0.72        34\n",
      "\n",
      "    accuracy                           1.00     17089\n",
      "   macro avg       0.88      0.84      0.86     17089\n",
      "weighted avg       1.00      1.00      1.00     17089\n",
      "\n"
     ]
    }
   ],
   "source": [
    "# Random Forest with smote \n",
    "\n",
    "rfc1 = RandomForestClassifier()\n",
    "rfc1.fit(X_train_res, y_train_res.ravel()) \n",
    "pred_rfc1 = rfc1.predict(X_test) \n",
    "  \n",
    "# print classification report\n",
    "print(accuracy_score(y_test, pred_rfc1)) \n",
    "print(classification_report(y_test, pred_rfc1)) \n"
   ]
  },
  {
   "cell_type": "code",
   "execution_count": 14,
   "metadata": {},
   "outputs": [
    {
     "name": "stdout",
     "output_type": "stream",
     "text": [
      "0.9990637252033472\n",
      "              precision    recall  f1-score   support\n",
      "\n",
      "         0.0       1.00      1.00      1.00     17055\n",
      "         1.0       0.78      0.74      0.76        34\n",
      "\n",
      "    accuracy                           1.00     17089\n",
      "   macro avg       0.89      0.87      0.88     17089\n",
      "weighted avg       1.00      1.00      1.00     17089\n",
      "\n"
     ]
    }
   ],
   "source": [
    "# XGBoost with smote \n",
    "\n",
    "xgb1 = xgb.XGBClassifier()\n",
    "xgb1.fit(X_train_res, y_train_res.ravel()) \n",
    "pred_xgb1 = xgb1.predict(X_test) \n",
    "  \n",
    "# print classification report\n",
    "print(accuracy_score(y_test, pred_xgb1)) \n",
    "print(classification_report(y_test, pred_xgb1)) \n"
   ]
  },
  {
   "cell_type": "code",
   "execution_count": 15,
   "metadata": {},
   "outputs": [
    {
     "name": "stdout",
     "output_type": "stream",
     "text": [
      "Before RandomOverSampling, counts of label '1': [68]\n",
      "Before RandomOverSampling, counts of label '0': [39805] \n",
      "\n",
      "After RandomOverSampling, the shape of train_X: (79610, 30)\n",
      "After RandomOverSampling, the shape of train_y: (79610,) \n",
      "\n",
      "After RandomOverSampling, counts of label '1': 39805\n",
      "After RandomOverSampling, counts of label '0': 39805\n"
     ]
    }
   ],
   "source": [
    "# Using RandomOverSampling Alogrithm\n",
    "#from imblearn.over_sampling import RandomOverSampler\n",
    "print(\"Before RandomOverSampling, counts of label '1': {}\".format(sum(y_train == 1))) \n",
    "print(\"Before RandomOverSampling, counts of label '0': {} \\n\".format(sum(y_train == 0))) \n",
    "  \n",
    "oversam = RandomOverSampler(random_state=0)\n",
    "X_oversam, y_oversam = oversam.fit_sample(X_train,y_train.ravel())\n",
    "  \n",
    "print('After RandomOverSampling, the shape of train_X: {}'.format(X_oversam.shape)) \n",
    "print('After RandomOverSampling, the shape of train_y: {} \\n'.format(y_oversam.shape)) \n",
    "  \n",
    "print(\"After RandomOverSampling, counts of label '1': {}\".format(sum(y_oversam == 1))) \n",
    "print(\"After RandomOverSampling, counts of label '0': {}\".format(sum(y_oversam == 0))) "
   ]
  },
  {
   "cell_type": "code",
   "execution_count": 16,
   "metadata": {},
   "outputs": [
    {
     "name": "stdout",
     "output_type": "stream",
     "text": [
      "0.9987711393293932\n",
      "              precision    recall  f1-score   support\n",
      "\n",
      "         0.0       1.00      1.00      1.00     17055\n",
      "         1.0       0.74      0.59      0.66        34\n",
      "\n",
      "    accuracy                           1.00     17089\n",
      "   macro avg       0.87      0.79      0.83     17089\n",
      "weighted avg       1.00      1.00      1.00     17089\n",
      "\n"
     ]
    }
   ],
   "source": [
    "# Decision tree with Random Over Sampling \n",
    "dtc2 = DecisionTreeClassifier() \n",
    "dtc2.fit(X_oversam, y_oversam.ravel()) \n",
    "pred_dtc2 = dtc2.predict(X_test) \n",
    "  \n",
    "# print classification report\n",
    "print(accuracy_score(y_test, pred_dtc2)) \n",
    "print(classification_report(y_test, pred_dtc2)) \n"
   ]
  },
  {
   "cell_type": "code",
   "execution_count": 17,
   "metadata": {},
   "outputs": [
    {
     "name": "stdout",
     "output_type": "stream",
     "text": [
      "0.9992977939025104\n",
      "              precision    recall  f1-score   support\n",
      "\n",
      "         0.0       1.00      1.00      1.00     17055\n",
      "         1.0       0.96      0.68      0.79        34\n",
      "\n",
      "    accuracy                           1.00     17089\n",
      "   macro avg       0.98      0.84      0.90     17089\n",
      "weighted avg       1.00      1.00      1.00     17089\n",
      "\n"
     ]
    }
   ],
   "source": [
    "# Random Forest with Random Over Sampling\n",
    "\n",
    "rfc2 = RandomForestClassifier()\n",
    "rfc2.fit(X_oversam, y_oversam.ravel()) \n",
    "pred_rfc2 = rfc2.predict(X_test) \n",
    "  \n",
    "# print classification report\n",
    "print(accuracy_score(y_test, pred_rfc2)) \n",
    "print(classification_report(y_test, pred_rfc2)) \n"
   ]
  },
  {
   "cell_type": "code",
   "execution_count": 18,
   "metadata": {},
   "outputs": [
    {
     "name": "stdout",
     "output_type": "stream",
     "text": [
      "0.9992392767277196\n",
      "              precision    recall  f1-score   support\n",
      "\n",
      "         0.0       1.00      1.00      1.00     17055\n",
      "         1.0       0.92      0.68      0.78        34\n",
      "\n",
      "    accuracy                           1.00     17089\n",
      "   macro avg       0.96      0.84      0.89     17089\n",
      "weighted avg       1.00      1.00      1.00     17089\n",
      "\n"
     ]
    }
   ],
   "source": [
    "# XGBoost with Random Over Sampling \n",
    "\n",
    "xgb2 = xgb.XGBClassifier()\n",
    "xgb2.fit(X_oversam, y_oversam.ravel()) \n",
    "pred_xgb2 = xgb2.predict(X_test) \n",
    "  \n",
    "# print classification report\n",
    "print(accuracy_score(y_test, pred_xgb2)) \n",
    "print(classification_report(y_test, pred_xgb2)) \n"
   ]
  },
  {
   "cell_type": "code",
   "execution_count": 19,
   "metadata": {},
   "outputs": [
    {
     "name": "stdout",
     "output_type": "stream",
     "text": [
      "Before RandomUnderSampling, counts of label '1': [68]\n",
      "Before RandomUnderSampling, counts of label '0': [39805] \n",
      "\n",
      "After RandomUnderSampling, the shape of train_X: (136, 30)\n",
      "After RandomUnderSampling, the shape of train_y: (136,) \n",
      "\n",
      "After RandomUnderSampling, counts of label '1': 68\n",
      "After RandomUnderSampling, counts of label '0': 68\n"
     ]
    }
   ],
   "source": [
    "# Using RandomUnderSampling Alogrithm\n",
    "#from imblearn.over_sampling import RandomOverSampler\n",
    "print(\"Before RandomUnderSampling, counts of label '1': {}\".format(sum(y_train == 1))) \n",
    "print(\"Before RandomUnderSampling, counts of label '0': {} \\n\".format(sum(y_train == 0))) \n",
    "  \n",
    "from imblearn.over_sampling import SMOTE\n",
    "undersam = RandomUnderSampler(random_state=0)\n",
    "X_undersam, y_undersam = undersam.fit_sample(X_train,y_train.ravel())\n",
    "  \n",
    "print('After RandomUnderSampling, the shape of train_X: {}'.format(X_undersam.shape)) \n",
    "print('After RandomUnderSampling, the shape of train_y: {} \\n'.format(y_undersam.shape)) \n",
    "  \n",
    "print(\"After RandomUnderSampling, counts of label '1': {}\".format(sum(y_undersam == 1))) \n",
    "print(\"After RandomUnderSampling, counts of label '0': {}\".format(sum(y_undersam == 0))) "
   ]
  },
  {
   "cell_type": "code",
   "execution_count": 20,
   "metadata": {},
   "outputs": [
    {
     "name": "stdout",
     "output_type": "stream",
     "text": [
      "0.8990578734858681\n",
      "              precision    recall  f1-score   support\n",
      "\n",
      "         0.0       1.00      0.90      0.95     17055\n",
      "         1.0       0.02      0.85      0.03        34\n",
      "\n",
      "    accuracy                           0.90     17089\n",
      "   macro avg       0.51      0.88      0.49     17089\n",
      "weighted avg       1.00      0.90      0.94     17089\n",
      "\n"
     ]
    }
   ],
   "source": [
    "# Decision tree with Random Under Sampling \n",
    "dtc3 = DecisionTreeClassifier() \n",
    "dtc3.fit(X_undersam, y_undersam.ravel()) \n",
    "pred_dtc3 = dtc3.predict(X_test) \n",
    "  \n",
    "# print classification report\n",
    "print(accuracy_score(y_test, pred_dtc3)) \n",
    "print(classification_report(y_test, pred_dtc3)) \n"
   ]
  },
  {
   "cell_type": "code",
   "execution_count": 21,
   "metadata": {},
   "outputs": [
    {
     "name": "stdout",
     "output_type": "stream",
     "text": [
      "0.9674059336415238\n",
      "              precision    recall  f1-score   support\n",
      "\n",
      "         0.0       1.00      0.97      0.98     17055\n",
      "         1.0       0.05      0.79      0.09        34\n",
      "\n",
      "    accuracy                           0.97     17089\n",
      "   macro avg       0.52      0.88      0.54     17089\n",
      "weighted avg       1.00      0.97      0.98     17089\n",
      "\n"
     ]
    }
   ],
   "source": [
    "# Random Forest with Random Under Sampling \n",
    "\n",
    "rfc3 = RandomForestClassifier()\n",
    "rfc3.fit(X_undersam, y_undersam.ravel()) \n",
    "pred_rfc3 = rfc3.predict(X_test) \n",
    "  \n",
    "# print classification report\n",
    "print(accuracy_score(y_test, pred_rfc3)) \n",
    "print(classification_report(y_test, pred_rfc3)) \n"
   ]
  },
  {
   "cell_type": "code",
   "execution_count": 22,
   "metadata": {
    "scrolled": true
   },
   "outputs": [
    {
     "name": "stdout",
     "output_type": "stream",
     "text": [
      "0.9588624261220668\n",
      "              precision    recall  f1-score   support\n",
      "\n",
      "         0.0       1.00      0.96      0.98     17055\n",
      "         1.0       0.04      0.79      0.07        34\n",
      "\n",
      "    accuracy                           0.96     17089\n",
      "   macro avg       0.52      0.88      0.53     17089\n",
      "weighted avg       1.00      0.96      0.98     17089\n",
      "\n"
     ]
    }
   ],
   "source": [
    "# XGBoost with Random Under Sampling\n",
    "\n",
    "xgb3 = xgb.XGBClassifier()\n",
    "xgb3.fit(X_undersam, y_undersam.ravel()) \n",
    "pred_xgb3 = xgb3.predict(X_test) \n",
    "  \n",
    "# print classification report\n",
    "print(accuracy_score(y_test, pred_xgb3)) \n",
    "print(classification_report(y_test, pred_xgb3)) \n",
    "\n",
    "# We have reduced the accuracy to 98% as compared to previous model \n",
    "# but the recall value of minority class has also improved to 62 %. \n",
    "# This is a good model compared to the previous one. Recall is great."
   ]
  },
  {
   "cell_type": "code",
   "execution_count": 23,
   "metadata": {},
   "outputs": [],
   "source": [
    "# Hyper-parameter tuning on best mode. i.e. XGBoost with oversampling\n",
    "params={\n",
    " \"learning_rate\"    : [0.05, 0.10, 0.15, 0.20, 0.25, 0.30 ] ,\n",
    " \"max_depth\"        : [ 3, 4, 5, 6, 8, 10, 12, 15]\n",
    "    \n",
    "}"
   ]
  },
  {
   "cell_type": "code",
   "execution_count": 24,
   "metadata": {},
   "outputs": [
    {
     "name": "stdout",
     "output_type": "stream",
     "text": [
      "Tuned Decision Tree Parameters: {'learning_rate': 0.3, 'max_depth': 3}\n",
      "Best Score: 0.9998869488757693\n"
     ]
    }
   ],
   "source": [
    "from sklearn.model_selection import GridSearchCV\n",
    "grid = GridSearchCV(xgb2, param_grid = params, cv = 2, n_jobs = -1)\n",
    "grid.fit(X_oversam, y_oversam)\n",
    "# Print the tuned parameter and score\n",
    "print(\"Tuned Decision Tree Parameters: {}\".format(grid.best_params_))\n",
    "print(\"Best Score: {}\".format(grid.best_score_))"
   ]
  },
  {
   "cell_type": "code",
   "execution_count": null,
   "metadata": {},
   "outputs": [],
   "source": []
  }
 ],
 "metadata": {
  "kernelspec": {
   "display_name": "Python 3",
   "language": "python",
   "name": "python3"
  },
  "language_info": {
   "codemirror_mode": {
    "name": "ipython",
    "version": 3
   },
   "file_extension": ".py",
   "mimetype": "text/x-python",
   "name": "python",
   "nbconvert_exporter": "python",
   "pygments_lexer": "ipython3",
   "version": "3.7.3"
  }
 },
 "nbformat": 4,
 "nbformat_minor": 2
}
